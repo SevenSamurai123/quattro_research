{
 "cells": [
  {
   "cell_type": "markdown",
   "id": "6ad0f071",
   "metadata": {},
   "source": [
    "# quattro research"
   ]
  },
  {
   "cell_type": "markdown",
   "id": "0de69913",
   "metadata": {},
   "source": [
    "## Developer Task: Integrating UniProt and Ensembl APIs"
   ]
  },
  {
   "cell_type": "markdown",
   "id": "1782d90c",
   "metadata": {},
   "source": [
    "Import Protein_information class"
   ]
  },
  {
   "cell_type": "code",
   "execution_count": 1,
   "id": "1a565cbf",
   "metadata": {},
   "outputs": [],
   "source": [
    "from API_tasks import Protein_informations"
   ]
  },
  {
   "cell_type": "markdown",
   "id": "b79d0744",
   "metadata": {},
   "source": [
    "Define UniProt IDs"
   ]
  },
  {
   "cell_type": "code",
   "execution_count": 2,
   "id": "1fcdc206",
   "metadata": {},
   "outputs": [],
   "source": [
    "uniprot_ids = [\"Q8N726\",\"O00255\",\"P69905\",\"Q9Y261\"]"
   ]
  },
  {
   "cell_type": "markdown",
   "id": "4ac2df1c",
   "metadata": {},
   "source": [
    "Create Protein_informations object"
   ]
  },
  {
   "cell_type": "code",
   "execution_count": 3,
   "id": "83aee474",
   "metadata": {},
   "outputs": [],
   "source": [
    "df_proteins = Protein_informations(uniprot_ids=uniprot_ids)"
   ]
  },
  {
   "cell_type": "markdown",
   "id": "8de157f0",
   "metadata": {},
   "source": [
    "Start information gaining and return result dataframe"
   ]
  },
  {
   "cell_type": "code",
   "execution_count": 4,
   "id": "2eb7746b",
   "metadata": {},
   "outputs": [
    {
     "name": "stderr",
     "output_type": "stream",
     "text": [
      "2025-08-01 09:56:32,879 [INFO] Handle UniProt ID: Q8N726\n",
      "2025-08-01 09:56:33,193 [INFO] Handle UniProt ID: O00255\n"
     ]
    },
    {
     "name": "stdout",
     "output_type": "stream",
     "text": [
      "<class 'str'>\n",
      "<class 'list'>\n",
      "<class 'dict'>\n",
      "<class 'dict'>\n"
     ]
    },
    {
     "name": "stderr",
     "output_type": "stream",
     "text": [
      "2025-08-01 09:56:33,452 [INFO] Handle UniProt ID: P69905\n"
     ]
    },
    {
     "name": "stdout",
     "output_type": "stream",
     "text": [
      "<class 'str'>\n",
      "<class 'list'>\n",
      "<class 'dict'>\n",
      "<class 'dict'>\n"
     ]
    },
    {
     "name": "stderr",
     "output_type": "stream",
     "text": [
      "2025-08-01 09:56:33,814 [INFO] Handle UniProt ID: Q9Y261\n"
     ]
    },
    {
     "name": "stdout",
     "output_type": "stream",
     "text": [
      "<class 'str'>\n",
      "<class 'list'>\n",
      "<class 'dict'>\n",
      "<class 'dict'>\n",
      "<class 'str'>\n",
      "<class 'list'>\n",
      "<class 'dict'>\n",
      "<class 'dict'>\n"
     ]
    }
   ],
   "source": [
    "df = df_proteins.start()"
   ]
  },
  {
   "cell_type": "code",
   "execution_count": 5,
   "id": "536c666f",
   "metadata": {},
   "outputs": [
    {
     "data": {
      "text/html": [
       "<div>\n",
       "<style scoped>\n",
       "    .dataframe tbody tr th:only-of-type {\n",
       "        vertical-align: middle;\n",
       "    }\n",
       "\n",
       "    .dataframe tbody tr th {\n",
       "        vertical-align: top;\n",
       "    }\n",
       "\n",
       "    .dataframe thead th {\n",
       "        text-align: right;\n",
       "    }\n",
       "</style>\n",
       "<table border=\"1\" class=\"dataframe\">\n",
       "  <thead>\n",
       "    <tr style=\"text-align: right;\">\n",
       "      <th></th>\n",
       "      <th>Protein Accession</th>\n",
       "      <th>Protein Name</th>\n",
       "      <th>Gen</th>\n",
       "      <th>Organism (Scientific)</th>\n",
       "      <th>Organism (Common)</th>\n",
       "      <th>Molecular Weight</th>\n",
       "      <th>Ensembl Gene ID</th>\n",
       "      <th>Description</th>\n",
       "      <th>Seq Region Name</th>\n",
       "    </tr>\n",
       "  </thead>\n",
       "  <tbody>\n",
       "    <tr>\n",
       "      <th>0</th>\n",
       "      <td>Q9Y261</td>\n",
       "      <td>Hepatocyte nuclear factor 3-beta</td>\n",
       "      <td>FOXA2</td>\n",
       "      <td>Homo sapiens</td>\n",
       "      <td>Human</td>\n",
       "      <td>48306</td>\n",
       "      <td>ENSG00000125798</td>\n",
       "      <td>forkhead box A2 [Source:HGNC Symbol;Acc:HGNC:5...</td>\n",
       "      <td>20</td>\n",
       "    </tr>\n",
       "    <tr>\n",
       "      <th>1</th>\n",
       "      <td>O00255</td>\n",
       "      <td>Menin</td>\n",
       "      <td>MEN1</td>\n",
       "      <td>Homo sapiens</td>\n",
       "      <td>Human</td>\n",
       "      <td>67497</td>\n",
       "      <td>ENSG00000133895</td>\n",
       "      <td>menin 1 [Source:HGNC Symbol;Acc:HGNC:7010]</td>\n",
       "      <td>11</td>\n",
       "    </tr>\n",
       "    <tr>\n",
       "      <th>2</th>\n",
       "      <td>Q8N726</td>\n",
       "      <td>Tumor suppressor ARF</td>\n",
       "      <td>CDKN2A</td>\n",
       "      <td>Homo sapiens</td>\n",
       "      <td>Human</td>\n",
       "      <td>13903</td>\n",
       "      <td>ENSG00000147889</td>\n",
       "      <td>cyclin dependent kinase inhibitor 2A [Source:H...</td>\n",
       "      <td>9</td>\n",
       "    </tr>\n",
       "    <tr>\n",
       "      <th>3</th>\n",
       "      <td>P69905</td>\n",
       "      <td>Hemoglobin subunit alpha</td>\n",
       "      <td>HBA1</td>\n",
       "      <td>Homo sapiens</td>\n",
       "      <td>Human</td>\n",
       "      <td>15258</td>\n",
       "      <td>ENSG00000206172</td>\n",
       "      <td>hemoglobin subunit alpha 1 [Source:HGNC Symbol...</td>\n",
       "      <td>16</td>\n",
       "    </tr>\n",
       "  </tbody>\n",
       "</table>\n",
       "</div>"
      ],
      "text/plain": [
       "  Protein Accession                      Protein Name     Gen  \\\n",
       "0            Q9Y261  Hepatocyte nuclear factor 3-beta   FOXA2   \n",
       "1            O00255                             Menin    MEN1   \n",
       "2            Q8N726              Tumor suppressor ARF  CDKN2A   \n",
       "3            P69905          Hemoglobin subunit alpha    HBA1   \n",
       "\n",
       "  Organism (Scientific) Organism (Common)  Molecular Weight  Ensembl Gene ID  \\\n",
       "0          Homo sapiens             Human             48306  ENSG00000125798   \n",
       "1          Homo sapiens             Human             67497  ENSG00000133895   \n",
       "2          Homo sapiens             Human             13903  ENSG00000147889   \n",
       "3          Homo sapiens             Human             15258  ENSG00000206172   \n",
       "\n",
       "                                         Description Seq Region Name  \n",
       "0  forkhead box A2 [Source:HGNC Symbol;Acc:HGNC:5...              20  \n",
       "1         menin 1 [Source:HGNC Symbol;Acc:HGNC:7010]              11  \n",
       "2  cyclin dependent kinase inhibitor 2A [Source:H...               9  \n",
       "3  hemoglobin subunit alpha 1 [Source:HGNC Symbol...              16  "
      ]
     },
     "execution_count": 5,
     "metadata": {},
     "output_type": "execute_result"
    }
   ],
   "source": [
    "df"
   ]
  },
  {
   "cell_type": "code",
   "execution_count": null,
   "id": "ee01b3d9",
   "metadata": {},
   "outputs": [],
   "source": [
    "df_proteins.saveto_xlsx(df)"
   ]
  }
 ],
 "metadata": {
  "kernelspec": {
   "display_name": "virtuelenv",
   "language": "python",
   "name": "python3"
  },
  "language_info": {
   "codemirror_mode": {
    "name": "ipython",
    "version": 3
   },
   "file_extension": ".py",
   "mimetype": "text/x-python",
   "name": "python",
   "nbconvert_exporter": "python",
   "pygments_lexer": "ipython3",
   "version": "3.10.11"
  }
 },
 "nbformat": 4,
 "nbformat_minor": 5
}
